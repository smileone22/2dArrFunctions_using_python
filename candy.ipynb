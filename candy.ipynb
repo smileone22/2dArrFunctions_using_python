{
 "cells": [
  {
   "cell_type": "code",
   "execution_count": 1,
   "metadata": {
    "id": "Laqo-3SDa9xM"
   },
   "outputs": [],
   "source": [
    "import tabletools as tt"
   ]
  },
  {
   "cell_type": "code",
   "execution_count": 2,
   "metadata": {
    "id": "h-4tijuDa9_v"
   },
   "outputs": [],
   "source": [
    "data = tt.read_csv('candy-data.csv')"
   ]
  },
  {
   "cell_type": "code",
   "execution_count": 3,
   "metadata": {
    "colab": {
     "base_uri": "https://localhost:8080/"
    },
    "id": "bHfzwmRea-CD",
    "outputId": "88ea07e6-dfd7-471f-805b-a2537d595620"
   },
   "outputs": [
    {
     "data": {
      "text/plain": [
       "                competitorname                  chocolate                     fruity                    caramel             peanutyalmondy                     nougat           crispedricewafer                       hard                        bar                   pluribus               sugarpercent               pricepercent                 winpercent\n",
       " 81                   Warheads                        0.0                        1.0                        0.0                        0.0                        0.0                        0.0                        1.0                        0.0                        0.0                0.093000002                      0.116                  39.011898\n",
       " 82       WelchÕs Fruit Snacks                        0.0                        1.0                        0.0                        0.0                        0.0                        0.0                        0.0                        0.0                        1.0                 0.31299999                 0.31299999                  44.375519\n",
       " 83 WertherÕs Original Caramel                        0.0                        0.0                        1.0                        0.0                        0.0                        0.0                        1.0                        0.0                        0.0                      0.186                 0.26699999                  41.904308\n",
       " 84                   Whoppers                        1.0                        0.0                        0.0                        0.0                        0.0                        1.0                        0.0                        0.0                        1.0                 0.87199998                 0.84799999                  49.524113"
      ]
     },
     "execution_count": 3,
     "metadata": {},
     "output_type": "execute_result"
    }
   ],
   "source": [
    "#display the last 4 rows of the data set\n",
    "data.tail(4)"
   ]
  },
  {
   "cell_type": "code",
   "execution_count": 4,
   "metadata": {
    "colab": {
     "base_uri": "https://localhost:8080/"
    },
    "id": "Gq1ORL9HbjnK",
    "outputId": "4667bb52-8bfc-41a0-d68d-4920e20ac568"
   },
   "outputs": [
    {
     "data": {
      "text/plain": [
       "['competitorname',\n",
       " 'chocolate',\n",
       " 'fruity',\n",
       " 'caramel',\n",
       " 'peanutyalmondy',\n",
       " 'nougat',\n",
       " 'crispedricewafer',\n",
       " 'hard',\n",
       " 'bar',\n",
       " 'pluribus',\n",
       " 'sugarpercent',\n",
       " 'pricepercent',\n",
       " 'winpercent']"
      ]
     },
     "execution_count": 4,
     "metadata": {},
     "output_type": "execute_result"
    }
   ],
   "source": [
    "data.columns"
   ]
  },
  {
   "cell_type": "code",
   "execution_count": 5,
   "metadata": {
    "id": "-Ga2FFMNbdTj"
   },
   "outputs": [],
   "source": [
    "#Q2. show the candy name, if it's chocolate, if it's peanuty/almondy, and its win percentage for all candy that is chocolate\n",
    "q2= data[['competitorname','chocolate','peanutyalmondy', 'winpercent']]"
   ]
  },
  {
   "cell_type": "code",
   "execution_count": 6,
   "metadata": {
    "id": "V4amM_Nwdrgz"
   },
   "outputs": [],
   "source": [
    "q22=[data['chocolate']==1]\n",
    "tf=[]\n",
    "for i in q22:\n",
    "  tf+=i.values"
   ]
  },
  {
   "cell_type": "code",
   "execution_count": 7,
   "metadata": {
    "id": "LEOtU4jDem3o"
   },
   "outputs": [],
   "source": [
    "answer2= q2[tf]"
   ]
  },
  {
   "cell_type": "code",
   "execution_count": 8,
   "metadata": {
    "colab": {
     "base_uri": "https://localhost:8080/"
    },
    "id": "dqgZGDgGkTwT",
    "outputId": "eda06499-c825-40c7-cce7-f698f38e493e"
   },
   "outputs": [
    {
     "data": {
      "text/plain": [
       "                 competitorname                   chocolate              peanutyalmondy                  winpercent\n",
       "  0                   100 Grand                         1.0                         0.0                   66.971725\n",
       "  1                3 Musketeers                         1.0                         0.0                   67.602936\n",
       "  5                  Almond Joy                         1.0                         1.0                   50.347546\n",
       "  6                   Baby Ruth                         1.0                         1.0                   56.914547\n",
       " 10             Charleston Chew                         1.0                         0.0                   38.975037\n",
       " 22            HersheyÕs Kisses                         1.0                         0.0                   55.375454\n",
       " 23           HersheyÕs Krackel                         1.0                         0.0                   62.284481\n",
       " 24    HersheyÕs Milk Chocolate                         1.0                         0.0                   56.490501\n",
       " 25      HersheyÕs Special Dark                         1.0                         0.0                   59.236122\n",
       " 27                Junior Mints                         1.0                         0.0                    57.21925\n",
       " 28                     Kit Kat                         1.0                         0.0                     76.7686\n",
       " 32         Peanut butter M&MÕs                         1.0                         1.0                    71.46505\n",
       " 33                       M&MÕs                         1.0                         0.0                   66.574585\n",
       " 35                   Milk Duds                         1.0                         0.0                   55.064072\n",
       " 36                   Milky Way                         1.0                         0.0                   73.099556\n",
       " 37          Milky Way Midnight                         1.0                         0.0                   60.800701\n",
       " 38    Milky Way Simply Caramel                         1.0                         0.0                    64.35334\n",
       " 39                      Mounds                         1.0                         0.0                   47.829754\n",
       " 40                 Mr Good Bar                         1.0                         1.0                   54.526451\n",
       " 42         Nestle Butterfinger                         1.0                         1.0                   70.735641\n",
       " 43               Nestle Crunch                         1.0                         0.0                    66.47068\n",
       " 47                 Peanut M&Ms                         1.0                         1.0                   69.483788\n",
       " 51          ReeseÕs Miniatures                         1.0                         1.0                   81.866257\n",
       " 52   ReeseÕs Peanut Butter cup                         1.0                         1.0                    84.18029\n",
       " 53              ReeseÕs pieces                         1.0                         1.0                    73.43499\n",
       " 54 ReeseÕs stuffed with pieces                         1.0                         1.0                   72.887901\n",
       " 56                        Rolo                         1.0                         0.0                   65.716286\n",
       " 59                     Sixlets                         1.0                         0.0                      34.722\n",
       " 62             Nestle Smarties                         1.0                         0.0                   37.887188\n",
       " 64                    Snickers                         1.0                         1.0                   76.673782\n",
       " 65            Snickers Crisper                         1.0                         1.0                   59.529251\n",
       " 74                 Tootsie Pop                         1.0                         0.0                   48.982651\n",
       " 75        Tootsie Roll Juniors                         1.0                         0.0                   43.068897\n",
       " 76        Tootsie Roll Midgies                         1.0                         0.0                   45.736748\n",
       " 77     Tootsie Roll Snack Bars                         1.0                         0.0                   49.653503\n",
       " 79                        Twix                         1.0                         0.0                   81.642914\n",
       " 84                    Whoppers                         1.0                         0.0                   49.524113"
      ]
     },
     "execution_count": 8,
     "metadata": {},
     "output_type": "execute_result"
    }
   ],
   "source": [
    "answer2"
   ]
  },
  {
   "cell_type": "code",
   "execution_count": 9,
   "metadata": {
    "id": "m7_Ygv0pdypc"
   },
   "outputs": [],
   "source": [
    "# Q3. using the results above, add another criteria: \n",
    "# only candies that are peanuty/almondy \n",
    "# (that is… at the end, you'll only have a listing of chocolate and peanut candies!)"
   ]
  },
  {
   "cell_type": "code",
   "execution_count": 10,
   "metadata": {
    "id": "xbXqKRLcdlkd"
   },
   "outputs": [],
   "source": [
    "q33=[answer2['peanutyalmondy']==1]\n",
    "tf=[]\n",
    "for i in q33:\n",
    "  tf+=i.values"
   ]
  },
  {
   "cell_type": "code",
   "execution_count": 11,
   "metadata": {
    "id": "MTbA1osNk_ah"
   },
   "outputs": [],
   "source": [
    "answer3= answer2[tf]"
   ]
  },
  {
   "cell_type": "code",
   "execution_count": 12,
   "metadata": {
    "colab": {
     "base_uri": "https://localhost:8080/"
    },
    "id": "J_JqX9bmdJGl",
    "outputId": "7ce38cb9-8e43-4369-b8f2-13b2d0a7ddba"
   },
   "outputs": [
    {
     "data": {
      "text/plain": [
       "                 competitorname                   chocolate              peanutyalmondy                  winpercent\n",
       "  5                  Almond Joy                         1.0                         1.0                   50.347546\n",
       "  6                   Baby Ruth                         1.0                         1.0                   56.914547\n",
       " 32         Peanut butter M&MÕs                         1.0                         1.0                    71.46505\n",
       " 40                 Mr Good Bar                         1.0                         1.0                   54.526451\n",
       " 42         Nestle Butterfinger                         1.0                         1.0                   70.735641\n",
       " 47                 Peanut M&Ms                         1.0                         1.0                   69.483788\n",
       " 51          ReeseÕs Miniatures                         1.0                         1.0                   81.866257\n",
       " 52   ReeseÕs Peanut Butter cup                         1.0                         1.0                    84.18029\n",
       " 53              ReeseÕs pieces                         1.0                         1.0                    73.43499\n",
       " 54 ReeseÕs stuffed with pieces                         1.0                         1.0                   72.887901\n",
       " 64                    Snickers                         1.0                         1.0                   76.673782\n",
       " 65            Snickers Crisper                         1.0                         1.0                   59.529251"
      ]
     },
     "execution_count": 12,
     "metadata": {},
     "output_type": "execute_result"
    }
   ],
   "source": [
    "answer3"
   ]
  },
  {
   "cell_type": "code",
   "execution_count": 13,
   "metadata": {
    "id": "4qYoO62IlRg0"
   },
   "outputs": [],
   "source": [
    "# Q4. using the previous results, \n",
    "# apply each of the following filters on chocolate and almond-peanut candies, \n",
    "# with one \"filter\" per cell\n",
    "# chocolate and almond-peanut candies that have win percentage < than 50\n",
    "# chocolate and almond-peanut candies with a name that starts with \"Reese\", YOU MUST USE A LAMBDA FOR THIS\n",
    "# chocolate and almond-peanut candies with a name less than 10 characters long. YOU MUST USE A LAMBDA FOR THIS"
   ]
  },
  {
   "cell_type": "code",
   "execution_count": 14,
   "metadata": {
    "id": "1hYQfGZclwJW"
   },
   "outputs": [],
   "source": [
    "#4_1. chocolate and almond-peanut candies that have win percentage < than 50\n",
    "filter=[answer3['winpercent']<50]\n",
    "tf=[]\n",
    "for i in filter:\n",
    "  tf+=i.values\n",
    "answer4_1=answer3[tf]"
   ]
  },
  {
   "cell_type": "code",
   "execution_count": 15,
   "metadata": {
    "colab": {
     "base_uri": "https://localhost:8080/"
    },
    "id": "OQkTuxLnmQ3N",
    "outputId": "3801e0c9-3287-4e3a-b311-a07de07fa385"
   },
   "outputs": [
    {
     "data": {
      "text/plain": []
     },
     "execution_count": 15,
     "metadata": {},
     "output_type": "execute_result"
    }
   ],
   "source": [
    "answer4_1"
   ]
  },
  {
   "cell_type": "code",
   "execution_count": 16,
   "metadata": {
    "id": "JsSrYg-Zn7IE"
   },
   "outputs": [],
   "source": [
    "#4_1 using lambda chocolate and almond-peanut candies that have win percentage < than 50\n",
    "chopeaWine =[]\n",
    "for i in answer3.values:\n",
    "    checkW = lambda val: val<50\n",
    "    chopeaWine.append(checkW(i[3]))\n",
    "answer4_1= answer3[chopeaWine]"
   ]
  },
  {
   "cell_type": "code",
   "execution_count": 17,
   "metadata": {},
   "outputs": [
    {
     "data": {
      "text/plain": []
     },
     "execution_count": 17,
     "metadata": {},
     "output_type": "execute_result"
    }
   ],
   "source": [
    "answer4_1 #empty!!"
   ]
  },
  {
   "cell_type": "code",
   "execution_count": 18,
   "metadata": {
    "colab": {
     "base_uri": "https://localhost:8080/",
     "height": 198
    },
    "id": "PdqrjHD7mdwC",
    "outputId": "6be8d677-b017-48fc-8787-60111c96023a"
   },
   "outputs": [],
   "source": [
    "#4_2. chocolate and almond-peanut candies(answer3) with a name that starts with \"Reese\", YOU MUST USE A LAMBDA FOR THIS\n",
    "reeses=[]\n",
    "for i in answer3.values:\n",
    "    startsReese= lambda val: val.startswith('Reese') \n",
    "    reeses.append(startsReese(i[0]))\n",
    "answer4_2= answer3[reeses]"
   ]
  },
  {
   "cell_type": "code",
   "execution_count": 19,
   "metadata": {
    "colab": {
     "base_uri": "https://localhost:8080/",
     "height": 164
    },
    "id": "A0NY2ijjrLia",
    "outputId": "bae88504-c9f3-43f5-b437-a16933c30813"
   },
   "outputs": [
    {
     "data": {
      "text/plain": [
       "                 competitorname                   chocolate              peanutyalmondy                  winpercent\n",
       " 51          ReeseÕs Miniatures                         1.0                         1.0                   81.866257\n",
       " 52   ReeseÕs Peanut Butter cup                         1.0                         1.0                    84.18029\n",
       " 53              ReeseÕs pieces                         1.0                         1.0                    73.43499\n",
       " 54 ReeseÕs stuffed with pieces                         1.0                         1.0                   72.887901"
      ]
     },
     "execution_count": 19,
     "metadata": {},
     "output_type": "execute_result"
    }
   ],
   "source": [
    "answer4_2 # emptiness proved!!!"
   ]
  },
  {
   "cell_type": "code",
   "execution_count": 20,
   "metadata": {
    "id": "8XztdYacmh-P"
   },
   "outputs": [],
   "source": [
    "#4_3. chocolate and almond-peanut candies(answer3) \n",
    "# with a name less than 10 characters long. YOU MUST USE A LAMBDA FOR THIS"
   ]
  },
  {
   "cell_type": "code",
   "execution_count": 21,
   "metadata": {
    "id": "X6ih6QbSo0um"
   },
   "outputs": [],
   "source": [
    "chocoPeanuts =[]\n",
    "for row in answer3.values:\n",
    "    nameConst= lambda val: len(val) <10\n",
    "    chocoPeanuts.append(nameConst(row[0]))\n",
    "answer4_3 =answer3[chocoPeanuts]\n"
   ]
  },
  {
   "cell_type": "code",
   "execution_count": 22,
   "metadata": {
    "colab": {
     "base_uri": "https://localhost:8080/",
     "height": 164
    },
    "id": "6mK0ZZhlqv6z",
    "outputId": "a10766b4-035d-4b3c-ffa5-2b06c2d02a7e"
   },
   "outputs": [
    {
     "data": {
      "text/plain": [
       "    competitorname      chocolate peanutyalmondy     winpercent\n",
       "  6      Baby Ruth            1.0            1.0      56.914547\n",
       " 64       Snickers            1.0            1.0      76.673782"
      ]
     },
     "execution_count": 22,
     "metadata": {},
     "output_type": "execute_result"
    }
   ],
   "source": [
    "answer4_3"
   ]
  },
  {
   "cell_type": "code",
   "execution_count": null,
   "metadata": {},
   "outputs": [],
   "source": []
  },
  {
   "cell_type": "code",
   "execution_count": null,
   "metadata": {},
   "outputs": [],
   "source": []
  },
  {
   "cell_type": "code",
   "execution_count": null,
   "metadata": {},
   "outputs": [],
   "source": []
  },
  {
   "cell_type": "code",
   "execution_count": null,
   "metadata": {},
   "outputs": [],
   "source": []
  },
  {
   "cell_type": "code",
   "execution_count": null,
   "metadata": {},
   "outputs": [],
   "source": []
  }
 ],
 "metadata": {
  "colab": {
   "name": "candy.ipynb",
   "provenance": []
  },
  "kernelspec": {
   "display_name": "Python 3",
   "language": "python",
   "name": "python3"
  },
  "language_info": {
   "codemirror_mode": {
    "name": "ipython",
    "version": 3
   },
   "file_extension": ".py",
   "mimetype": "text/x-python",
   "name": "python",
   "nbconvert_exporter": "python",
   "pygments_lexer": "ipython3",
   "version": "3.8.3"
  }
 },
 "nbformat": 4,
 "nbformat_minor": 4
}
